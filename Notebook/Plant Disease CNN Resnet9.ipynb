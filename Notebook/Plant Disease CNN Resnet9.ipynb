{
 "cells": [
  {
   "cell_type": "code",
   "execution_count": 1,
   "metadata": {
    "_cell_guid": "b1076dfc-b9ad-4769-8c92-a6c4dae69d19",
    "_uuid": "8f2839f25d086af736a60e9eeb907d3b93b6e0e5",
    "execution": {
     "iopub.execute_input": "2021-08-11T05:31:43.812416Z",
     "iopub.status.busy": "2021-08-11T05:31:43.811927Z",
     "iopub.status.idle": "2021-08-11T05:31:45.219182Z",
     "shell.execute_reply": "2021-08-11T05:31:45.218115Z",
     "shell.execute_reply.started": "2021-08-11T05:31:43.812330Z"
    }
   },
   "outputs": [],
   "source": [
    "\n",
    "import os                       # for working with files\n",
    "import numpy as np              # for numerical computationss\n",
    "import pandas as pd             # for working with dataframes\n",
    "import torch                    # Pytorch module \n",
    "import matplotlib.pyplot as plt # for plotting informations on graph and images using tensors\n",
    "import torch.nn as nn           # for creating  neural networks\n",
    "from torch.utils.data import DataLoader # for dataloaders \n",
    "from PIL import Image           # for checking images\n",
    "import torch.nn.functional as F # for functions for calculating loss\n",
    "import torchvision.transforms as transforms   # for transforming images into tensors \n",
    "from torchvision.utils import make_grid       # for data checking\n",
    "from torchvision.datasets import ImageFolder  # for working with classes and images"
   ]
  },
  {
   "cell_type": "code",
   "execution_count": 2,
   "metadata": {
    "execution": {
     "iopub.execute_input": "2021-08-11T05:31:45.222763Z",
     "iopub.status.busy": "2021-08-11T05:31:45.222408Z",
     "iopub.status.idle": "2021-08-11T05:31:45.227248Z",
     "shell.execute_reply": "2021-08-11T05:31:45.226159Z",
     "shell.execute_reply.started": "2021-08-11T05:31:45.222723Z"
    }
   },
   "outputs": [],
   "source": [
    "path=\"/kaggle/input/new-plant-diseases-dataset/New Plant Diseases Dataset(Augmented)/New Plant Diseases Dataset(Augmented)\"\n",
    "train_dir=path+\"/train\"\n",
    "valid_dir=path+\"/valid\""
   ]
  },
  {
   "cell_type": "code",
   "execution_count": 3,
   "metadata": {
    "execution": {
     "iopub.execute_input": "2021-08-11T05:31:45.229993Z",
     "iopub.status.busy": "2021-08-11T05:31:45.229583Z",
     "iopub.status.idle": "2021-08-11T05:31:45.252675Z",
     "shell.execute_reply": "2021-08-11T05:31:45.251741Z",
     "shell.execute_reply.started": "2021-08-11T05:31:45.229954Z"
    }
   },
   "outputs": [],
   "source": [
    "disease=os.listdir(train_dir)"
   ]
  },
  {
   "cell_type": "code",
   "execution_count": 4,
   "metadata": {
    "execution": {
     "iopub.execute_input": "2021-08-11T05:31:45.254707Z",
     "iopub.status.busy": "2021-08-11T05:31:45.254312Z",
     "iopub.status.idle": "2021-08-11T05:31:45.262720Z",
     "shell.execute_reply": "2021-08-11T05:31:45.261903Z",
     "shell.execute_reply.started": "2021-08-11T05:31:45.254669Z"
    }
   },
   "outputs": [
    {
     "data": {
      "text/plain": [
       "38"
      ]
     },
     "execution_count": 4,
     "metadata": {},
     "output_type": "execute_result"
    }
   ],
   "source": [
    "len(disease)"
   ]
  },
  {
   "cell_type": "code",
   "execution_count": 5,
   "metadata": {
    "execution": {
     "iopub.execute_input": "2021-08-11T05:31:45.264876Z",
     "iopub.status.busy": "2021-08-11T05:31:45.264206Z",
     "iopub.status.idle": "2021-08-11T05:31:45.274822Z",
     "shell.execute_reply": "2021-08-11T05:31:45.273918Z",
     "shell.execute_reply.started": "2021-08-11T05:31:45.264835Z"
    }
   },
   "outputs": [
    {
     "data": {
      "text/plain": [
       "['Tomato',\n",
       " 'Grape',\n",
       " 'Orange',\n",
       " 'Soybean',\n",
       " 'Squash',\n",
       " 'Potato',\n",
       " 'Corn_(maize)',\n",
       " 'Strawberry',\n",
       " 'Peach',\n",
       " 'Apple',\n",
       " 'Blueberry',\n",
       " 'Cherry_(including_sour)',\n",
       " 'Pepper,_bell',\n",
       " 'Raspberry']"
      ]
     },
     "execution_count": 5,
     "metadata": {},
     "output_type": "execute_result"
    }
   ],
   "source": [
    "plants=[]\n",
    "for i in disease:\n",
    "    k=i.split(\"__\")\n",
    "    if k[0] not in plants:\n",
    "        plants.append(k[0])\n",
    "plants"
   ]
  },
  {
   "cell_type": "code",
   "execution_count": 6,
   "metadata": {
    "execution": {
     "iopub.execute_input": "2021-08-11T05:31:45.276506Z",
     "iopub.status.busy": "2021-08-11T05:31:45.276120Z",
     "iopub.status.idle": "2021-08-11T05:31:50.317093Z",
     "shell.execute_reply": "2021-08-11T05:31:50.316344Z",
     "shell.execute_reply.started": "2021-08-11T05:31:45.276474Z"
    }
   },
   "outputs": [
    {
     "data": {
      "text/plain": [
       "[('Tomato___Late_blight', 1851),\n",
       " ('Tomato___healthy', 1926),\n",
       " ('Grape___healthy', 1692),\n",
       " ('Orange___Haunglongbing_(Citrus_greening)', 2010),\n",
       " ('Soybean___healthy', 2022),\n",
       " ('Squash___Powdery_mildew', 1736),\n",
       " ('Potato___healthy', 1824),\n",
       " ('Corn_(maize)___Northern_Leaf_Blight', 1908),\n",
       " ('Tomato___Early_blight', 1920),\n",
       " ('Tomato___Septoria_leaf_spot', 1745),\n",
       " ('Corn_(maize)___Cercospora_leaf_spot Gray_leaf_spot', 1642),\n",
       " ('Strawberry___Leaf_scorch', 1774),\n",
       " ('Peach___healthy', 1728),\n",
       " ('Apple___Apple_scab', 2016),\n",
       " ('Tomato___Tomato_Yellow_Leaf_Curl_Virus', 1961),\n",
       " ('Tomato___Bacterial_spot', 1702),\n",
       " ('Apple___Black_rot', 1987),\n",
       " ('Blueberry___healthy', 1816),\n",
       " ('Cherry_(including_sour)___Powdery_mildew', 1683),\n",
       " ('Peach___Bacterial_spot', 1838),\n",
       " ('Apple___Cedar_apple_rust', 1760),\n",
       " ('Tomato___Target_Spot', 1827),\n",
       " ('Pepper,_bell___healthy', 1988),\n",
       " ('Grape___Leaf_blight_(Isariopsis_Leaf_Spot)', 1722),\n",
       " ('Potato___Late_blight', 1939),\n",
       " ('Tomato___Tomato_mosaic_virus', 1790),\n",
       " ('Strawberry___healthy', 1824),\n",
       " ('Apple___healthy', 2008),\n",
       " ('Grape___Black_rot', 1888),\n",
       " ('Potato___Early_blight', 1939),\n",
       " ('Cherry_(including_sour)___healthy', 1826),\n",
       " ('Corn_(maize)___Common_rust_', 1907),\n",
       " ('Grape___Esca_(Black_Measles)', 1920),\n",
       " ('Raspberry___healthy', 1781),\n",
       " ('Tomato___Leaf_Mold', 1882),\n",
       " ('Tomato___Spider_mites Two-spotted_spider_mite', 1741),\n",
       " ('Pepper,_bell___Bacterial_spot', 1913),\n",
       " ('Corn_(maize)___healthy', 1859)]"
      ]
     },
     "execution_count": 6,
     "metadata": {},
     "output_type": "execute_result"
    }
   ],
   "source": [
    "lis=[]\n",
    "no=0\n",
    "for i in disease:\n",
    "    pat=len(os.listdir(train_dir+\"/\"+str(i)))\n",
    "    lis.append((i,pat))\n",
    "    no+=pat\n",
    "lis\n"
   ]
  },
  {
   "cell_type": "code",
   "execution_count": 7,
   "metadata": {
    "execution": {
     "iopub.execute_input": "2021-08-11T05:31:50.320354Z",
     "iopub.status.busy": "2021-08-11T05:31:50.320071Z",
     "iopub.status.idle": "2021-08-11T05:31:50.328677Z",
     "shell.execute_reply": "2021-08-11T05:31:50.327718Z",
     "shell.execute_reply.started": "2021-08-11T05:31:50.320325Z"
    }
   },
   "outputs": [
    {
     "name": "stdout",
     "output_type": "stream",
     "text": [
      "70295\n",
      "38\n"
     ]
    }
   ],
   "source": [
    "print(no)\n",
    "print(len(lis))"
   ]
  },
  {
   "cell_type": "code",
   "execution_count": 8,
   "metadata": {
    "execution": {
     "iopub.execute_input": "2021-08-11T05:31:50.333027Z",
     "iopub.status.busy": "2021-08-11T05:31:50.332708Z",
     "iopub.status.idle": "2021-08-11T05:31:54.008353Z",
     "shell.execute_reply": "2021-08-11T05:31:54.007455Z",
     "shell.execute_reply.started": "2021-08-11T05:31:50.333001Z"
    }
   },
   "outputs": [
    {
     "name": "stdout",
     "output_type": "stream",
     "text": [
      "17572\n"
     ]
    }
   ],
   "source": [
    "ns=0\n",
    "for i in disease:\n",
    "    pat=len(os.listdir(valid_dir+\"/\"+str(i)))\n",
    "    ns+=pat\n",
    "print(ns)"
   ]
  },
  {
   "cell_type": "code",
   "execution_count": 9,
   "metadata": {
    "execution": {
     "iopub.execute_input": "2021-08-11T05:31:54.010714Z",
     "iopub.status.busy": "2021-08-11T05:31:54.010369Z",
     "iopub.status.idle": "2021-08-11T05:31:54.020737Z",
     "shell.execute_reply": "2021-08-11T05:31:54.019827Z",
     "shell.execute_reply.started": "2021-08-11T05:31:54.010679Z"
    }
   },
   "outputs": [],
   "source": [
    "data=pd.DataFrame(data=lis,columns=['disease','no of images'])"
   ]
  },
  {
   "cell_type": "code",
   "execution_count": 10,
   "metadata": {
    "execution": {
     "iopub.execute_input": "2021-08-11T05:31:54.022526Z",
     "iopub.status.busy": "2021-08-11T05:31:54.022092Z",
     "iopub.status.idle": "2021-08-11T05:31:54.047337Z",
     "shell.execute_reply": "2021-08-11T05:31:54.046395Z",
     "shell.execute_reply.started": "2021-08-11T05:31:54.022464Z"
    }
   },
   "outputs": [
    {
     "data": {
      "text/html": [
       "<div>\n",
       "<style scoped>\n",
       "    .dataframe tbody tr th:only-of-type {\n",
       "        vertical-align: middle;\n",
       "    }\n",
       "\n",
       "    .dataframe tbody tr th {\n",
       "        vertical-align: top;\n",
       "    }\n",
       "\n",
       "    .dataframe thead th {\n",
       "        text-align: right;\n",
       "    }\n",
       "</style>\n",
       "<table border=\"1\" class=\"dataframe\">\n",
       "  <thead>\n",
       "    <tr style=\"text-align: right;\">\n",
       "      <th></th>\n",
       "      <th>disease</th>\n",
       "      <th>no of images</th>\n",
       "    </tr>\n",
       "  </thead>\n",
       "  <tbody>\n",
       "    <tr>\n",
       "      <th>0</th>\n",
       "      <td>Tomato___Late_blight</td>\n",
       "      <td>1851</td>\n",
       "    </tr>\n",
       "    <tr>\n",
       "      <th>1</th>\n",
       "      <td>Tomato___healthy</td>\n",
       "      <td>1926</td>\n",
       "    </tr>\n",
       "    <tr>\n",
       "      <th>2</th>\n",
       "      <td>Grape___healthy</td>\n",
       "      <td>1692</td>\n",
       "    </tr>\n",
       "    <tr>\n",
       "      <th>3</th>\n",
       "      <td>Orange___Haunglongbing_(Citrus_greening)</td>\n",
       "      <td>2010</td>\n",
       "    </tr>\n",
       "    <tr>\n",
       "      <th>4</th>\n",
       "      <td>Soybean___healthy</td>\n",
       "      <td>2022</td>\n",
       "    </tr>\n",
       "    <tr>\n",
       "      <th>5</th>\n",
       "      <td>Squash___Powdery_mildew</td>\n",
       "      <td>1736</td>\n",
       "    </tr>\n",
       "    <tr>\n",
       "      <th>6</th>\n",
       "      <td>Potato___healthy</td>\n",
       "      <td>1824</td>\n",
       "    </tr>\n",
       "    <tr>\n",
       "      <th>7</th>\n",
       "      <td>Corn_(maize)___Northern_Leaf_Blight</td>\n",
       "      <td>1908</td>\n",
       "    </tr>\n",
       "    <tr>\n",
       "      <th>8</th>\n",
       "      <td>Tomato___Early_blight</td>\n",
       "      <td>1920</td>\n",
       "    </tr>\n",
       "    <tr>\n",
       "      <th>9</th>\n",
       "      <td>Tomato___Septoria_leaf_spot</td>\n",
       "      <td>1745</td>\n",
       "    </tr>\n",
       "    <tr>\n",
       "      <th>10</th>\n",
       "      <td>Corn_(maize)___Cercospora_leaf_spot Gray_leaf_...</td>\n",
       "      <td>1642</td>\n",
       "    </tr>\n",
       "    <tr>\n",
       "      <th>11</th>\n",
       "      <td>Strawberry___Leaf_scorch</td>\n",
       "      <td>1774</td>\n",
       "    </tr>\n",
       "    <tr>\n",
       "      <th>12</th>\n",
       "      <td>Peach___healthy</td>\n",
       "      <td>1728</td>\n",
       "    </tr>\n",
       "    <tr>\n",
       "      <th>13</th>\n",
       "      <td>Apple___Apple_scab</td>\n",
       "      <td>2016</td>\n",
       "    </tr>\n",
       "    <tr>\n",
       "      <th>14</th>\n",
       "      <td>Tomato___Tomato_Yellow_Leaf_Curl_Virus</td>\n",
       "      <td>1961</td>\n",
       "    </tr>\n",
       "    <tr>\n",
       "      <th>15</th>\n",
       "      <td>Tomato___Bacterial_spot</td>\n",
       "      <td>1702</td>\n",
       "    </tr>\n",
       "    <tr>\n",
       "      <th>16</th>\n",
       "      <td>Apple___Black_rot</td>\n",
       "      <td>1987</td>\n",
       "    </tr>\n",
       "    <tr>\n",
       "      <th>17</th>\n",
       "      <td>Blueberry___healthy</td>\n",
       "      <td>1816</td>\n",
       "    </tr>\n",
       "    <tr>\n",
       "      <th>18</th>\n",
       "      <td>Cherry_(including_sour)___Powdery_mildew</td>\n",
       "      <td>1683</td>\n",
       "    </tr>\n",
       "    <tr>\n",
       "      <th>19</th>\n",
       "      <td>Peach___Bacterial_spot</td>\n",
       "      <td>1838</td>\n",
       "    </tr>\n",
       "    <tr>\n",
       "      <th>20</th>\n",
       "      <td>Apple___Cedar_apple_rust</td>\n",
       "      <td>1760</td>\n",
       "    </tr>\n",
       "    <tr>\n",
       "      <th>21</th>\n",
       "      <td>Tomato___Target_Spot</td>\n",
       "      <td>1827</td>\n",
       "    </tr>\n",
       "    <tr>\n",
       "      <th>22</th>\n",
       "      <td>Pepper,_bell___healthy</td>\n",
       "      <td>1988</td>\n",
       "    </tr>\n",
       "    <tr>\n",
       "      <th>23</th>\n",
       "      <td>Grape___Leaf_blight_(Isariopsis_Leaf_Spot)</td>\n",
       "      <td>1722</td>\n",
       "    </tr>\n",
       "    <tr>\n",
       "      <th>24</th>\n",
       "      <td>Potato___Late_blight</td>\n",
       "      <td>1939</td>\n",
       "    </tr>\n",
       "    <tr>\n",
       "      <th>25</th>\n",
       "      <td>Tomato___Tomato_mosaic_virus</td>\n",
       "      <td>1790</td>\n",
       "    </tr>\n",
       "    <tr>\n",
       "      <th>26</th>\n",
       "      <td>Strawberry___healthy</td>\n",
       "      <td>1824</td>\n",
       "    </tr>\n",
       "    <tr>\n",
       "      <th>27</th>\n",
       "      <td>Apple___healthy</td>\n",
       "      <td>2008</td>\n",
       "    </tr>\n",
       "    <tr>\n",
       "      <th>28</th>\n",
       "      <td>Grape___Black_rot</td>\n",
       "      <td>1888</td>\n",
       "    </tr>\n",
       "    <tr>\n",
       "      <th>29</th>\n",
       "      <td>Potato___Early_blight</td>\n",
       "      <td>1939</td>\n",
       "    </tr>\n",
       "    <tr>\n",
       "      <th>30</th>\n",
       "      <td>Cherry_(including_sour)___healthy</td>\n",
       "      <td>1826</td>\n",
       "    </tr>\n",
       "    <tr>\n",
       "      <th>31</th>\n",
       "      <td>Corn_(maize)___Common_rust_</td>\n",
       "      <td>1907</td>\n",
       "    </tr>\n",
       "    <tr>\n",
       "      <th>32</th>\n",
       "      <td>Grape___Esca_(Black_Measles)</td>\n",
       "      <td>1920</td>\n",
       "    </tr>\n",
       "    <tr>\n",
       "      <th>33</th>\n",
       "      <td>Raspberry___healthy</td>\n",
       "      <td>1781</td>\n",
       "    </tr>\n",
       "    <tr>\n",
       "      <th>34</th>\n",
       "      <td>Tomato___Leaf_Mold</td>\n",
       "      <td>1882</td>\n",
       "    </tr>\n",
       "    <tr>\n",
       "      <th>35</th>\n",
       "      <td>Tomato___Spider_mites Two-spotted_spider_mite</td>\n",
       "      <td>1741</td>\n",
       "    </tr>\n",
       "    <tr>\n",
       "      <th>36</th>\n",
       "      <td>Pepper,_bell___Bacterial_spot</td>\n",
       "      <td>1913</td>\n",
       "    </tr>\n",
       "    <tr>\n",
       "      <th>37</th>\n",
       "      <td>Corn_(maize)___healthy</td>\n",
       "      <td>1859</td>\n",
       "    </tr>\n",
       "  </tbody>\n",
       "</table>\n",
       "</div>"
      ],
      "text/plain": [
       "                                              disease  no of images\n",
       "0                                Tomato___Late_blight          1851\n",
       "1                                    Tomato___healthy          1926\n",
       "2                                     Grape___healthy          1692\n",
       "3            Orange___Haunglongbing_(Citrus_greening)          2010\n",
       "4                                   Soybean___healthy          2022\n",
       "5                             Squash___Powdery_mildew          1736\n",
       "6                                    Potato___healthy          1824\n",
       "7                 Corn_(maize)___Northern_Leaf_Blight          1908\n",
       "8                               Tomato___Early_blight          1920\n",
       "9                         Tomato___Septoria_leaf_spot          1745\n",
       "10  Corn_(maize)___Cercospora_leaf_spot Gray_leaf_...          1642\n",
       "11                           Strawberry___Leaf_scorch          1774\n",
       "12                                    Peach___healthy          1728\n",
       "13                                 Apple___Apple_scab          2016\n",
       "14             Tomato___Tomato_Yellow_Leaf_Curl_Virus          1961\n",
       "15                            Tomato___Bacterial_spot          1702\n",
       "16                                  Apple___Black_rot          1987\n",
       "17                                Blueberry___healthy          1816\n",
       "18           Cherry_(including_sour)___Powdery_mildew          1683\n",
       "19                             Peach___Bacterial_spot          1838\n",
       "20                           Apple___Cedar_apple_rust          1760\n",
       "21                               Tomato___Target_Spot          1827\n",
       "22                             Pepper,_bell___healthy          1988\n",
       "23         Grape___Leaf_blight_(Isariopsis_Leaf_Spot)          1722\n",
       "24                               Potato___Late_blight          1939\n",
       "25                       Tomato___Tomato_mosaic_virus          1790\n",
       "26                               Strawberry___healthy          1824\n",
       "27                                    Apple___healthy          2008\n",
       "28                                  Grape___Black_rot          1888\n",
       "29                              Potato___Early_blight          1939\n",
       "30                  Cherry_(including_sour)___healthy          1826\n",
       "31                        Corn_(maize)___Common_rust_          1907\n",
       "32                       Grape___Esca_(Black_Measles)          1920\n",
       "33                                Raspberry___healthy          1781\n",
       "34                                 Tomato___Leaf_Mold          1882\n",
       "35      Tomato___Spider_mites Two-spotted_spider_mite          1741\n",
       "36                      Pepper,_bell___Bacterial_spot          1913\n",
       "37                             Corn_(maize)___healthy          1859"
      ]
     },
     "execution_count": 10,
     "metadata": {},
     "output_type": "execute_result"
    }
   ],
   "source": [
    "data"
   ]
  },
  {
   "cell_type": "code",
   "execution_count": 11,
   "metadata": {
    "execution": {
     "iopub.execute_input": "2021-08-11T05:31:54.049021Z",
     "iopub.status.busy": "2021-08-11T05:31:54.048652Z",
     "iopub.status.idle": "2021-08-11T05:31:54.057520Z",
     "shell.execute_reply": "2021-08-11T05:31:54.055925Z",
     "shell.execute_reply.started": "2021-08-11T05:31:54.048984Z"
    }
   },
   "outputs": [],
   "source": [
    "# for moving data into GPU (if available)\n",
    "def get_default_device():\n",
    "    \"\"\"Pick GPU if available, else CPU\"\"\"\n",
    "    if torch.cuda.is_available:\n",
    "        return torch.device(\"cuda\")\n",
    "    else:\n",
    "        return torch.device(\"cpu\")\n",
    "\n",
    "# for moving data to device (CPU or GPU)\n",
    "def to_device(data, device):\n",
    "    \"\"\"Move tensor(s) to chosen device\"\"\"\n",
    "    if isinstance(data, (list,tuple)):\n",
    "        return [to_device(x, device) for x in data]\n",
    "    return data.to(device, non_blocking=True)\n",
    "\n",
    "# for loading in the device (GPU if available else CPU)\n",
    "class DeviceDataLoader():\n",
    "    \"\"\"Wrap a dataloader to move data to a device\"\"\"\n",
    "    def __init__(self, dl, device):\n",
    "        self.dl = dl\n",
    "        self.device = device\n",
    "        \n",
    "    def __iter__(self):\n",
    "        \"\"\"Yield a batch of data after moving it to device\"\"\"\n",
    "        for b in self.dl:\n",
    "            yield to_device(b, self.device)\n",
    "        \n",
    "    def __len__(self):\n",
    "        \"\"\"Number of batches\"\"\"\n",
    "        return len(self.dl)"
   ]
  },
  {
   "cell_type": "code",
   "execution_count": 12,
   "metadata": {
    "execution": {
     "iopub.execute_input": "2021-08-11T05:31:54.061380Z",
     "iopub.status.busy": "2021-08-11T05:31:54.060941Z",
     "iopub.status.idle": "2021-08-11T05:31:54.082158Z",
     "shell.execute_reply": "2021-08-11T05:31:54.081312Z",
     "shell.execute_reply.started": "2021-08-11T05:31:54.061346Z"
    }
   },
   "outputs": [
    {
     "data": {
      "text/plain": [
       "device(type='cuda')"
      ]
     },
     "execution_count": 12,
     "metadata": {},
     "output_type": "execute_result"
    }
   ],
   "source": [
    "device = get_default_device()\n",
    "device"
   ]
  },
  {
   "cell_type": "code",
   "execution_count": 13,
   "metadata": {
    "execution": {
     "iopub.execute_input": "2021-08-11T05:31:54.084412Z",
     "iopub.status.busy": "2021-08-11T05:31:54.083761Z",
     "iopub.status.idle": "2021-08-11T05:32:55.961743Z",
     "shell.execute_reply": "2021-08-11T05:32:55.960826Z",
     "shell.execute_reply.started": "2021-08-11T05:31:54.084364Z"
    }
   },
   "outputs": [],
   "source": [
    "train=ImageFolder(train_dir,transform=transforms.ToTensor())\n",
    "valid=ImageFolder(valid_dir,transform=transforms.ToTensor())"
   ]
  },
  {
   "cell_type": "code",
   "execution_count": 14,
   "metadata": {
    "execution": {
     "iopub.execute_input": "2021-08-11T05:32:55.963482Z",
     "iopub.status.busy": "2021-08-11T05:32:55.963070Z",
     "iopub.status.idle": "2021-08-11T05:32:55.972479Z",
     "shell.execute_reply": "2021-08-11T05:32:55.971300Z",
     "shell.execute_reply.started": "2021-08-11T05:32:55.963442Z"
    }
   },
   "outputs": [
    {
     "data": {
      "text/plain": [
       "<torch._C.Generator at 0x7fa6f011bd70>"
      ]
     },
     "execution_count": 14,
     "metadata": {},
     "output_type": "execute_result"
    }
   ],
   "source": [
    "random_seed=7\n",
    "torch.manual_seed(random_seed)"
   ]
  },
  {
   "cell_type": "code",
   "execution_count": 15,
   "metadata": {
    "execution": {
     "iopub.execute_input": "2021-08-11T05:32:55.974359Z",
     "iopub.status.busy": "2021-08-11T05:32:55.973912Z",
     "iopub.status.idle": "2021-08-11T05:32:55.979870Z",
     "shell.execute_reply": "2021-08-11T05:32:55.978821Z",
     "shell.execute_reply.started": "2021-08-11T05:32:55.974323Z"
    }
   },
   "outputs": [],
   "source": [
    "#Data loaders for training and validation\n",
    "train_dl=DataLoader(train,batch_size=32,shuffle=True,pin_memory=True)\n",
    "valid_dl=DataLoader(valid,batch_size=32,shuffle=True,pin_memory=True)"
   ]
  },
  {
   "cell_type": "code",
   "execution_count": 16,
   "metadata": {
    "execution": {
     "iopub.execute_input": "2021-08-11T05:32:55.981687Z",
     "iopub.status.busy": "2021-08-11T05:32:55.981123Z",
     "iopub.status.idle": "2021-08-11T05:32:55.989660Z",
     "shell.execute_reply": "2021-08-11T05:32:55.988827Z",
     "shell.execute_reply.started": "2021-08-11T05:32:55.981651Z"
    }
   },
   "outputs": [],
   "source": [
    "# Moving data into GPU\n",
    "train_dl = DeviceDataLoader(train_dl, device)\n",
    "valid_dl = DeviceDataLoader(valid_dl, device)"
   ]
  },
  {
   "cell_type": "code",
   "execution_count": null,
   "metadata": {},
   "outputs": [],
   "source": []
  },
  {
   "cell_type": "code",
   "execution_count": 17,
   "metadata": {
    "execution": {
     "iopub.execute_input": "2021-08-11T05:32:55.991490Z",
     "iopub.status.busy": "2021-08-11T05:32:55.991116Z",
     "iopub.status.idle": "2021-08-11T05:32:55.999734Z",
     "shell.execute_reply": "2021-08-11T05:32:55.998865Z",
     "shell.execute_reply.started": "2021-08-11T05:32:55.991456Z"
    }
   },
   "outputs": [],
   "source": [
    "#Convoliton Block\n",
    "def ConvBlock(in_channels,out_channels,pool=False):\n",
    "    layers=[nn.Conv2d(in_channels,out_channels,kernel_size=3,padding=1),\n",
    "           nn.BatchNorm2d(out_channels),\n",
    "           nn.ReLU()]\n",
    "    if pool:\n",
    "        layers.append(nn.MaxPool2d(4))\n",
    "    return nn.Sequential(*layers)"
   ]
  },
  {
   "cell_type": "code",
   "execution_count": 18,
   "metadata": {
    "execution": {
     "iopub.execute_input": "2021-08-11T05:32:56.001103Z",
     "iopub.status.busy": "2021-08-11T05:32:56.000813Z",
     "iopub.status.idle": "2021-08-11T05:32:56.014859Z",
     "shell.execute_reply": "2021-08-11T05:32:56.013908Z",
     "shell.execute_reply.started": "2021-08-11T05:32:56.001078Z"
    }
   },
   "outputs": [],
   "source": [
    "# Architecture of Resnet9\n",
    "class Resnet9(nn.Module):\n",
    "    def __init__(self,input_channels,output_classes):\n",
    "        super().__init__()\n",
    "        #input_dimension=[32,3,256,256]\n",
    "        #stage-1\n",
    "        self.conv1=ConvBlock(input_channels,64)#output_dimension=[32,64,256,256]\n",
    "        self.conv2=ConvBlock(64,128,pool=True)#output_dimension=[32,128,64,64]\n",
    "        self.res1=nn.Sequential(ConvBlock(128,128),ConvBlock(128,128))\n",
    "        \n",
    "        #stage-2\n",
    "        self.conv3=ConvBlock(128,256,pool=True)#output_dimension=[32,256,16,16]\n",
    "        self.conv4=ConvBlock(256,512,pool=True)#output_dimension=[32,512,4,4]\n",
    "        self.res2=nn.Sequential(ConvBlock(512,512),ConvBlock(512,512))\n",
    "        \n",
    "        #stage-3\n",
    "        self.classifier=nn.Sequential(nn.MaxPool2d(4),nn.Flatten(),nn.Linear(512,38))\n",
    "        \n",
    "        \n",
    "    def forward(self,input):\n",
    "        output=self.conv1(input)\n",
    "        output=self.conv2(output)\n",
    "        output=self.res1(output)+output\n",
    "        output=self.conv3(output)\n",
    "        output=self.conv4(output)\n",
    "        output=self.res2(output)+output\n",
    "        output=self.classifier(output)\n",
    "        return output"
   ]
  },
  {
   "cell_type": "code",
   "execution_count": 19,
   "metadata": {
    "execution": {
     "iopub.execute_input": "2021-08-11T05:32:56.016714Z",
     "iopub.status.busy": "2021-08-11T05:32:56.016162Z",
     "iopub.status.idle": "2021-08-11T05:33:00.672791Z",
     "shell.execute_reply": "2021-08-11T05:33:00.672017Z",
     "shell.execute_reply.started": "2021-08-11T05:32:56.016677Z"
    }
   },
   "outputs": [
    {
     "data": {
      "text/plain": [
       "Resnet9(\n",
       "  (conv1): Sequential(\n",
       "    (0): Conv2d(3, 64, kernel_size=(3, 3), stride=(1, 1), padding=(1, 1))\n",
       "    (1): BatchNorm2d(64, eps=1e-05, momentum=0.1, affine=True, track_running_stats=True)\n",
       "    (2): ReLU()\n",
       "  )\n",
       "  (conv2): Sequential(\n",
       "    (0): Conv2d(64, 128, kernel_size=(3, 3), stride=(1, 1), padding=(1, 1))\n",
       "    (1): BatchNorm2d(128, eps=1e-05, momentum=0.1, affine=True, track_running_stats=True)\n",
       "    (2): ReLU()\n",
       "    (3): MaxPool2d(kernel_size=4, stride=4, padding=0, dilation=1, ceil_mode=False)\n",
       "  )\n",
       "  (res1): Sequential(\n",
       "    (0): Sequential(\n",
       "      (0): Conv2d(128, 128, kernel_size=(3, 3), stride=(1, 1), padding=(1, 1))\n",
       "      (1): BatchNorm2d(128, eps=1e-05, momentum=0.1, affine=True, track_running_stats=True)\n",
       "      (2): ReLU()\n",
       "    )\n",
       "    (1): Sequential(\n",
       "      (0): Conv2d(128, 128, kernel_size=(3, 3), stride=(1, 1), padding=(1, 1))\n",
       "      (1): BatchNorm2d(128, eps=1e-05, momentum=0.1, affine=True, track_running_stats=True)\n",
       "      (2): ReLU()\n",
       "    )\n",
       "  )\n",
       "  (conv3): Sequential(\n",
       "    (0): Conv2d(128, 256, kernel_size=(3, 3), stride=(1, 1), padding=(1, 1))\n",
       "    (1): BatchNorm2d(256, eps=1e-05, momentum=0.1, affine=True, track_running_stats=True)\n",
       "    (2): ReLU()\n",
       "    (3): MaxPool2d(kernel_size=4, stride=4, padding=0, dilation=1, ceil_mode=False)\n",
       "  )\n",
       "  (conv4): Sequential(\n",
       "    (0): Conv2d(256, 512, kernel_size=(3, 3), stride=(1, 1), padding=(1, 1))\n",
       "    (1): BatchNorm2d(512, eps=1e-05, momentum=0.1, affine=True, track_running_stats=True)\n",
       "    (2): ReLU()\n",
       "    (3): MaxPool2d(kernel_size=4, stride=4, padding=0, dilation=1, ceil_mode=False)\n",
       "  )\n",
       "  (res2): Sequential(\n",
       "    (0): Sequential(\n",
       "      (0): Conv2d(512, 512, kernel_size=(3, 3), stride=(1, 1), padding=(1, 1))\n",
       "      (1): BatchNorm2d(512, eps=1e-05, momentum=0.1, affine=True, track_running_stats=True)\n",
       "      (2): ReLU()\n",
       "    )\n",
       "    (1): Sequential(\n",
       "      (0): Conv2d(512, 512, kernel_size=(3, 3), stride=(1, 1), padding=(1, 1))\n",
       "      (1): BatchNorm2d(512, eps=1e-05, momentum=0.1, affine=True, track_running_stats=True)\n",
       "      (2): ReLU()\n",
       "    )\n",
       "  )\n",
       "  (classifier): Sequential(\n",
       "    (0): MaxPool2d(kernel_size=4, stride=4, padding=0, dilation=1, ceil_mode=False)\n",
       "    (1): Flatten(start_dim=1, end_dim=-1)\n",
       "    (2): Linear(in_features=512, out_features=38, bias=True)\n",
       "  )\n",
       ")"
      ]
     },
     "execution_count": 19,
     "metadata": {},
     "output_type": "execute_result"
    }
   ],
   "source": [
    "model = to_device(Resnet9(3, len(disease)), device) \n",
    "model"
   ]
  },
  {
   "cell_type": "code",
   "execution_count": 20,
   "metadata": {
    "execution": {
     "iopub.execute_input": "2021-08-11T05:33:00.674510Z",
     "iopub.status.busy": "2021-08-11T05:33:00.673908Z",
     "iopub.status.idle": "2021-08-11T05:33:00.682073Z",
     "shell.execute_reply": "2021-08-11T05:33:00.681232Z",
     "shell.execute_reply.started": "2021-08-11T05:33:00.674480Z"
    }
   },
   "outputs": [],
   "source": [
    "from torch.optim import Adam\n",
    "#Optimizer and Loss Function\n",
    "optimizer=Adam(model.parameters(),lr=0.001,weight_decay=0.0001)\n",
    "loss_function=nn.CrossEntropyLoss()"
   ]
  },
  {
   "cell_type": "code",
   "execution_count": 21,
   "metadata": {
    "execution": {
     "iopub.execute_input": "2021-08-11T05:33:00.683831Z",
     "iopub.status.busy": "2021-08-11T05:33:00.683484Z",
     "iopub.status.idle": "2021-08-11T09:45:40.019887Z",
     "shell.execute_reply": "2021-08-11T09:45:40.018969Z",
     "shell.execute_reply.started": "2021-08-11T05:33:00.683797Z"
    }
   },
   "outputs": [
    {
     "name": "stdout",
     "output_type": "stream",
     "text": [
      "Epoch: 0 Train Loss: tensor(0.5301) Train Accuracy: 0.8442278967209617 Test Accuracy: 0.8868654677896654\n",
      "Epoch: 1 Train Loss: tensor(0.1481) Train Accuracy: 0.9521445337506224 Test Accuracy: 0.9597021890204752\n",
      "Epoch: 2 Train Loss: tensor(0.1067) Train Accuracy: 0.9650899779500676 Test Accuracy: 0.9708604428744038\n",
      "Epoch: 3 Train Loss: tensor(0.0763) Train Accuracy: 0.9756881712781847 Test Accuracy: 0.9772917630572999\n",
      "Epoch: 4 Train Loss: tensor(0.0644) Train Accuracy: 0.9788320648694786 Test Accuracy: 0.9796253865105314\n",
      "Epoch: 5 Train Loss: tensor(0.0515) Train Accuracy: 0.9832278255921474 Test Accuracy: 0.9838367644768102\n",
      "Epoch: 6 Train Loss: tensor(0.0517) Train Accuracy: 0.9826303435521729 Test Accuracy: 0.9854304482565717\n",
      "Epoch: 7 Train Loss: tensor(0.0425) Train Accuracy: 0.986286364606302 Test Accuracy: 0.9854305389510731\n",
      "Epoch: 8 Train Loss: tensor(0.0412) Train Accuracy: 0.9865851056262892 Test Accuracy: 0.9861703522956381\n",
      "Epoch: 9 Train Loss: tensor(0.0370) Train Accuracy: 0.9879223273348033 Test Accuracy: 0.9869102077368709\n",
      "Epoch: 10 Train Loss: tensor(0.0361) Train Accuracy: 0.9880645849633687 Test Accuracy: 0.9890158724224752\n",
      "Epoch: 11 Train Loss: tensor(0.0334) Train Accuracy: 0.9890888398890391 Test Accuracy: 0.9864550999244492\n",
      "Epoch: 12 Train Loss: tensor(0.0324) Train Accuracy: 0.9892880005690305 Test Accuracy: 0.9890727552412888\n"
     ]
    }
   ],
   "source": [
    "from torch.autograd import Variable\n",
    "#model_training and Saving the best Model\n",
    "best_accuracy=0.0\n",
    "train_accuracy=0.0\n",
    "train_loss=0.0\n",
    "test_accuracy=0.0\n",
    "for epoch in range(13):\n",
    "    best_accuracy=0.0\n",
    "    train_accuracy=0.0\n",
    "    train_loss=0.0\n",
    "    #training and Evaluation\n",
    "    for i,(images,labels) in enumerate(train_dl):\n",
    "        if torch.cuda.is_available():\n",
    "            images=Variable(images.cuda())\n",
    "            labels=Variable(labels.cuda())\n",
    "        optimizer.zero_grad()\n",
    "        outputs=model(images)\n",
    "        loss=loss_function(outputs,labels)\n",
    "        loss.backward()\n",
    "        optimizer.step()\n",
    "        train_loss+=loss.cpu().data*images.size(0)\n",
    "        _,prediction=torch.max(outputs.data,1)\n",
    "        train_accuracy+=int(torch.sum(prediction==labels.data))\n",
    "    train_accuracy=train_accuracy/no\n",
    "    train_loss=train_loss/no   \n",
    "    #for eavaluating the model\n",
    "    model.eval()\n",
    "    for i,(images,labels) in enumerate(valid_dl):\n",
    "        if torch.cuda.is_available():\n",
    "            images=Variable(images.cuda())\n",
    "            labels=Variable(labels.cuda())\n",
    "        optimizer.zero_grad()  \n",
    "        outputs=model(images)\n",
    "        loss=loss_function(outputs,labels)\n",
    "        loss.backward()\n",
    "        optimizer.step()\n",
    "        _,prediction=torch.max(outputs.data,1)\n",
    "        test_accuracy+=int(torch.sum(prediction==labels.data))\n",
    "    test_accuracy=test_accuracy/ns\n",
    "    print('Epoch: '+str(epoch)+' Train Loss: '+str(train_loss)+' Train Accuracy: '+str(train_accuracy)+' Test Accuracy: '+str(test_accuracy))"
   ]
  },
  {
   "cell_type": "code",
   "execution_count": 22,
   "metadata": {
    "execution": {
     "iopub.execute_input": "2021-08-11T09:45:40.021545Z",
     "iopub.status.busy": "2021-08-11T09:45:40.021225Z",
     "iopub.status.idle": "2021-08-11T09:45:40.082054Z",
     "shell.execute_reply": "2021-08-11T09:45:40.081161Z",
     "shell.execute_reply.started": "2021-08-11T09:45:40.021516Z"
    }
   },
   "outputs": [],
   "source": [
    "# saving to the kaggle working directory\n",
    "PATH = './plant-disease-model.pth'  \n",
    "torch.save(model.state_dict(), PATH)"
   ]
  },
  {
   "cell_type": "code",
   "execution_count": 23,
   "metadata": {
    "execution": {
     "iopub.execute_input": "2021-08-11T09:45:40.085762Z",
     "iopub.status.busy": "2021-08-11T09:45:40.085471Z",
     "iopub.status.idle": "2021-08-11T09:45:40.140159Z",
     "shell.execute_reply": "2021-08-11T09:45:40.139287Z",
     "shell.execute_reply.started": "2021-08-11T09:45:40.085736Z"
    }
   },
   "outputs": [],
   "source": [
    "# saving the entire model to working directory\n",
    "PATH = './plant-disease-model-complete.pth'\n",
    "torch.save(model, PATH)"
   ]
  },
  {
   "cell_type": "code",
   "execution_count": 24,
   "metadata": {
    "execution": {
     "iopub.execute_input": "2021-08-11T09:46:41.380026Z",
     "iopub.status.busy": "2021-08-11T09:46:41.379665Z",
     "iopub.status.idle": "2021-08-11T09:46:41.403089Z",
     "shell.execute_reply": "2021-08-11T09:46:41.402357Z",
     "shell.execute_reply.started": "2021-08-11T09:46:41.379994Z"
    }
   },
   "outputs": [],
   "source": [
    "test_dir = \"/kaggle/input/new-plant-diseases-dataset/test\"\n",
    "test = ImageFolder(test_dir, transform=transforms.ToTensor())"
   ]
  },
  {
   "cell_type": "code",
   "execution_count": 25,
   "metadata": {
    "execution": {
     "iopub.execute_input": "2021-08-11T09:46:54.514397Z",
     "iopub.status.busy": "2021-08-11T09:46:54.514011Z",
     "iopub.status.idle": "2021-08-11T09:46:54.523360Z",
     "shell.execute_reply": "2021-08-11T09:46:54.522132Z",
     "shell.execute_reply.started": "2021-08-11T09:46:54.514362Z"
    }
   },
   "outputs": [
    {
     "data": {
      "text/plain": [
       "['AppleCedarRust1.JPG',\n",
       " 'AppleCedarRust2.JPG',\n",
       " 'AppleCedarRust3.JPG',\n",
       " 'AppleCedarRust4.JPG',\n",
       " 'AppleScab1.JPG',\n",
       " 'AppleScab2.JPG',\n",
       " 'AppleScab3.JPG',\n",
       " 'CornCommonRust1.JPG',\n",
       " 'CornCommonRust2.JPG',\n",
       " 'CornCommonRust3.JPG',\n",
       " 'PotatoEarlyBlight1.JPG',\n",
       " 'PotatoEarlyBlight2.JPG',\n",
       " 'PotatoEarlyBlight3.JPG',\n",
       " 'PotatoEarlyBlight4.JPG',\n",
       " 'PotatoEarlyBlight5.JPG',\n",
       " 'PotatoHealthy1.JPG',\n",
       " 'PotatoHealthy2.JPG',\n",
       " 'TomatoEarlyBlight1.JPG',\n",
       " 'TomatoEarlyBlight2.JPG',\n",
       " 'TomatoEarlyBlight3.JPG',\n",
       " 'TomatoEarlyBlight4.JPG',\n",
       " 'TomatoEarlyBlight5.JPG',\n",
       " 'TomatoEarlyBlight6.JPG',\n",
       " 'TomatoHealthy1.JPG',\n",
       " 'TomatoHealthy2.JPG',\n",
       " 'TomatoHealthy3.JPG',\n",
       " 'TomatoHealthy4.JPG',\n",
       " 'TomatoYellowCurlVirus1.JPG',\n",
       " 'TomatoYellowCurlVirus2.JPG',\n",
       " 'TomatoYellowCurlVirus3.JPG',\n",
       " 'TomatoYellowCurlVirus4.JPG',\n",
       " 'TomatoYellowCurlVirus5.JPG',\n",
       " 'TomatoYellowCurlVirus6.JPG']"
      ]
     },
     "execution_count": 25,
     "metadata": {},
     "output_type": "execute_result"
    }
   ],
   "source": [
    "\n",
    "test_images = sorted(os.listdir(test_dir + '/test')) # since images in test folder are in alphabetical order\n",
    "test_images"
   ]
  },
  {
   "cell_type": "code",
   "execution_count": 26,
   "metadata": {
    "execution": {
     "iopub.execute_input": "2021-08-11T09:47:13.922053Z",
     "iopub.status.busy": "2021-08-11T09:47:13.921633Z",
     "iopub.status.idle": "2021-08-11T09:47:13.927243Z",
     "shell.execute_reply": "2021-08-11T09:47:13.926022Z",
     "shell.execute_reply.started": "2021-08-11T09:47:13.922017Z"
    }
   },
   "outputs": [],
   "source": [
    "def predict_image(img, model):\n",
    "    \"\"\"Converts image to array and return the predicted class\n",
    "        with highest probability\"\"\"\n",
    "    # Convert to a batch of 1\n",
    "    xb = to_device(img.unsqueeze(0), device)\n",
    "    # Get predictions from model\n",
    "    yb = model(xb)\n",
    "    # Pick index with highest probability\n",
    "    _, preds  = torch.max(yb, dim=1)\n",
    "    # Retrieve the class label\n",
    "\n",
    "    return train.classes[preds[0].item()]"
   ]
  },
  {
   "cell_type": "code",
   "execution_count": 27,
   "metadata": {
    "execution": {
     "iopub.execute_input": "2021-08-11T09:47:31.683756Z",
     "iopub.status.busy": "2021-08-11T09:47:31.683379Z",
     "iopub.status.idle": "2021-08-11T09:47:31.915976Z",
     "shell.execute_reply": "2021-08-11T09:47:31.915173Z",
     "shell.execute_reply.started": "2021-08-11T09:47:31.683722Z"
    }
   },
   "outputs": [
    {
     "name": "stdout",
     "output_type": "stream",
     "text": [
      "Label: AppleCedarRust1.JPG , Predicted: Apple___Cedar_apple_rust\n"
     ]
    },
    {
     "data": {
      "image/png": "[encoded data removed]",
      "text/plain": [
       "<Figure size 432x288 with 1 Axes>"
      ]
     },
     "metadata": {
      "needs_background": "light"
     },
     "output_type": "display_data"
    }
   ],
   "source": [
    "# predicting first image\n",
    "img, label = test[0]\n",
    "plt.imshow(img.permute(1, 2, 0))\n",
    "print('Label:', test_images[0], ', Predicted:', predict_image(img, model))"
   ]
  },
  {
   "cell_type": "code",
   "execution_count": 28,
   "metadata": {
    "execution": {
     "iopub.execute_input": "2021-08-11T09:47:50.719982Z",
     "iopub.status.busy": "2021-08-11T09:47:50.719657Z",
     "iopub.status.idle": "2021-08-11T09:47:51.255872Z",
     "shell.execute_reply": "2021-08-11T09:47:51.255014Z",
     "shell.execute_reply.started": "2021-08-11T09:47:50.719951Z"
    }
   },
   "outputs": [
    {
     "name": "stdout",
     "output_type": "stream",
     "text": [
      "Label: AppleCedarRust1.JPG , Predicted: Apple___Cedar_apple_rust\n",
      "Label: AppleCedarRust2.JPG , Predicted: Apple___Cedar_apple_rust\n",
      "Label: AppleCedarRust3.JPG , Predicted: Apple___Cedar_apple_rust\n",
      "Label: AppleCedarRust4.JPG , Predicted: Apple___Cedar_apple_rust\n",
      "Label: AppleScab1.JPG , Predicted: Apple___Apple_scab\n",
      "Label: AppleScab2.JPG , Predicted: Apple___Apple_scab\n",
      "Label: AppleScab3.JPG , Predicted: Corn_(maize)___Cercospora_leaf_spot Gray_leaf_spot\n",
      "Label: CornCommonRust1.JPG , Predicted: Corn_(maize)___Common_rust_\n",
      "Label: CornCommonRust2.JPG , Predicted: Corn_(maize)___Common_rust_\n",
      "Label: CornCommonRust3.JPG , Predicted: Corn_(maize)___Common_rust_\n",
      "Label: PotatoEarlyBlight1.JPG , Predicted: Potato___Early_blight\n",
      "Label: PotatoEarlyBlight2.JPG , Predicted: Potato___Early_blight\n",
      "Label: PotatoEarlyBlight3.JPG , Predicted: Potato___Early_blight\n",
      "Label: PotatoEarlyBlight4.JPG , Predicted: Potato___Early_blight\n",
      "Label: PotatoEarlyBlight5.JPG , Predicted: Potato___Early_blight\n",
      "Label: PotatoHealthy1.JPG , Predicted: Potato___healthy\n",
      "Label: PotatoHealthy2.JPG , Predicted: Potato___healthy\n",
      "Label: TomatoEarlyBlight1.JPG , Predicted: Tomato___Early_blight\n",
      "Label: TomatoEarlyBlight2.JPG , Predicted: Tomato___Early_blight\n",
      "Label: TomatoEarlyBlight3.JPG , Predicted: Tomato___Early_blight\n",
      "Label: TomatoEarlyBlight4.JPG , Predicted: Tomato___Early_blight\n",
      "Label: TomatoEarlyBlight5.JPG , Predicted: Tomato___Early_blight\n",
      "Label: TomatoEarlyBlight6.JPG , Predicted: Tomato___Early_blight\n",
      "Label: TomatoHealthy1.JPG , Predicted: Tomato___healthy\n",
      "Label: TomatoHealthy2.JPG , Predicted: Tomato___healthy\n",
      "Label: TomatoHealthy3.JPG , Predicted: Tomato___healthy\n",
      "Label: TomatoHealthy4.JPG , Predicted: Tomato___healthy\n",
      "Label: TomatoYellowCurlVirus1.JPG , Predicted: Tomato___Tomato_Yellow_Leaf_Curl_Virus\n",
      "Label: TomatoYellowCurlVirus2.JPG , Predicted: Tomato___Tomato_Yellow_Leaf_Curl_Virus\n",
      "Label: TomatoYellowCurlVirus3.JPG , Predicted: Tomato___Tomato_Yellow_Leaf_Curl_Virus\n",
      "Label: TomatoYellowCurlVirus4.JPG , Predicted: Tomato___Tomato_Yellow_Leaf_Curl_Virus\n",
      "Label: TomatoYellowCurlVirus5.JPG , Predicted: Tomato___Tomato_Yellow_Leaf_Curl_Virus\n",
      "Label: TomatoYellowCurlVirus6.JPG , Predicted: Tomato___Tomato_Yellow_Leaf_Curl_Virus\n"
     ]
    }
   ],
   "source": [
    "# getting all predictions (actual label vs predicted)\n",
    "for i, (img, label) in enumerate(test):\n",
    "    print('Label:', test_images[i], ', Predicted:', predict_image(img, model))"
   ]
  },
  {
   "cell_type": "code",
   "execution_count": null,
   "metadata": {},
   "outputs": [],
   "source": []
  },
  {
   "cell_type": "code",
   "execution_count": null,
   "metadata": {},
   "outputs": [],
   "source": []
  },
  {
   "cell_type": "code",
   "execution_count": null,
   "metadata": {},
   "outputs": [],
   "source": []
  },
  {
   "cell_type": "code",
   "execution_count": null,
   "metadata": {},
   "outputs": [],
   "source": []
  },
  {
   "cell_type": "code",
   "execution_count": null,
   "metadata": {},
   "outputs": [],
   "source": []
  },
  {
   "cell_type": "code",
   "execution_count": null,
   "metadata": {},
   "outputs": [],
   "source": []
  },
  {
   "cell_type": "code",
   "execution_count": null,
   "metadata": {},
   "outputs": [],
   "source": []
  }
 ],
 "metadata": {
  "kernelspec": {
   "display_name": "Python 3",
   "language": "python",
   "name": "python3"
  },
  "language_info": {
   "codemirror_mode": {
    "name": "ipython",
    "version": 3
   },
   "file_extension": ".py",
   "mimetype": "text/x-python",
   "name": "python",
   "nbconvert_exporter": "python",
   "pygments_lexer": "ipython3",
   "version": "3.8.5"
  }
 },
 "nbformat": 4,
 "nbformat_minor": 4
}
